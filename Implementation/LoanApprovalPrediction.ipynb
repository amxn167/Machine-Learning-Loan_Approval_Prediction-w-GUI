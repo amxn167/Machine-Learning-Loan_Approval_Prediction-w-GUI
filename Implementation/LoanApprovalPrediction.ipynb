{
  "cells": [
    {
      "cell_type": "code",
      "execution_count": 1,
      "metadata": {
        "id": "2TdSJS2wPB66"
      },
      "outputs": [],
      "source": [
        "import pandas as pd\n",
        "import numpy as np\n",
        "import matplotlib.pyplot as plt\n",
        "import seaborn as sns\n",
        "from sklearn import metrics\n",
        "from sklearn.metrics import confusion_matrix"
      ]
    },
    {
      "cell_type": "markdown",
      "metadata": {
        "id": "U4q6xOs-341K"
      },
      "source": [
        "**Importing Dataset**"
      ]
    },
    {
      "cell_type": "code",
      "execution_count": 2,
      "metadata": {
        "colab": {
          "base_uri": "https://localhost:8080/",
          "height": 339
        },
        "id": "6xRCkuEwQGCj",
        "outputId": "f7a5f683-644f-4a6e-befa-7e723f56dc5c"
      },
      "outputs": [
        {
          "data": {
            "text/html": [
              "<div>\n",
              "<style scoped>\n",
              "    .dataframe tbody tr th:only-of-type {\n",
              "        vertical-align: middle;\n",
              "    }\n",
              "\n",
              "    .dataframe tbody tr th {\n",
              "        vertical-align: top;\n",
              "    }\n",
              "\n",
              "    .dataframe thead th {\n",
              "        text-align: right;\n",
              "    }\n",
              "</style>\n",
              "<table border=\"1\" class=\"dataframe\">\n",
              "  <thead>\n",
              "    <tr style=\"text-align: right;\">\n",
              "      <th></th>\n",
              "      <th>Loan_ID</th>\n",
              "      <th>Gender</th>\n",
              "      <th>Married</th>\n",
              "      <th>Dependents</th>\n",
              "      <th>Education</th>\n",
              "      <th>Self_Employed</th>\n",
              "      <th>ApplicantIncome</th>\n",
              "      <th>CoapplicantIncome</th>\n",
              "      <th>LoanAmount</th>\n",
              "      <th>Loan_Amount_Term</th>\n",
              "      <th>Credit_History</th>\n",
              "      <th>Property_Area</th>\n",
              "      <th>Loan_Status</th>\n",
              "    </tr>\n",
              "  </thead>\n",
              "  <tbody>\n",
              "    <tr>\n",
              "      <th>0</th>\n",
              "      <td>LP001002</td>\n",
              "      <td>Male</td>\n",
              "      <td>No</td>\n",
              "      <td>0</td>\n",
              "      <td>Graduate</td>\n",
              "      <td>No</td>\n",
              "      <td>5849</td>\n",
              "      <td>0.0</td>\n",
              "      <td>NaN</td>\n",
              "      <td>360.0</td>\n",
              "      <td>1.0</td>\n",
              "      <td>Urban</td>\n",
              "      <td>Y</td>\n",
              "    </tr>\n",
              "    <tr>\n",
              "      <th>1</th>\n",
              "      <td>LP001003</td>\n",
              "      <td>Male</td>\n",
              "      <td>Yes</td>\n",
              "      <td>1</td>\n",
              "      <td>Graduate</td>\n",
              "      <td>No</td>\n",
              "      <td>4583</td>\n",
              "      <td>1508.0</td>\n",
              "      <td>128.0</td>\n",
              "      <td>360.0</td>\n",
              "      <td>1.0</td>\n",
              "      <td>Rural</td>\n",
              "      <td>N</td>\n",
              "    </tr>\n",
              "    <tr>\n",
              "      <th>2</th>\n",
              "      <td>LP001005</td>\n",
              "      <td>Male</td>\n",
              "      <td>Yes</td>\n",
              "      <td>0</td>\n",
              "      <td>Graduate</td>\n",
              "      <td>Yes</td>\n",
              "      <td>3000</td>\n",
              "      <td>0.0</td>\n",
              "      <td>66.0</td>\n",
              "      <td>360.0</td>\n",
              "      <td>1.0</td>\n",
              "      <td>Urban</td>\n",
              "      <td>Y</td>\n",
              "    </tr>\n",
              "    <tr>\n",
              "      <th>3</th>\n",
              "      <td>LP001006</td>\n",
              "      <td>Male</td>\n",
              "      <td>Yes</td>\n",
              "      <td>0</td>\n",
              "      <td>Not Graduate</td>\n",
              "      <td>No</td>\n",
              "      <td>2583</td>\n",
              "      <td>2358.0</td>\n",
              "      <td>120.0</td>\n",
              "      <td>360.0</td>\n",
              "      <td>1.0</td>\n",
              "      <td>Urban</td>\n",
              "      <td>Y</td>\n",
              "    </tr>\n",
              "    <tr>\n",
              "      <th>4</th>\n",
              "      <td>LP001008</td>\n",
              "      <td>Male</td>\n",
              "      <td>No</td>\n",
              "      <td>0</td>\n",
              "      <td>Graduate</td>\n",
              "      <td>No</td>\n",
              "      <td>6000</td>\n",
              "      <td>0.0</td>\n",
              "      <td>141.0</td>\n",
              "      <td>360.0</td>\n",
              "      <td>1.0</td>\n",
              "      <td>Urban</td>\n",
              "      <td>Y</td>\n",
              "    </tr>\n",
              "  </tbody>\n",
              "</table>\n",
              "</div>"
            ],
            "text/plain": [
              "    Loan_ID Gender Married Dependents     Education Self_Employed  \\\n",
              "0  LP001002   Male      No          0      Graduate            No   \n",
              "1  LP001003   Male     Yes          1      Graduate            No   \n",
              "2  LP001005   Male     Yes          0      Graduate           Yes   \n",
              "3  LP001006   Male     Yes          0  Not Graduate            No   \n",
              "4  LP001008   Male      No          0      Graduate            No   \n",
              "\n",
              "   ApplicantIncome  CoapplicantIncome  LoanAmount  Loan_Amount_Term  \\\n",
              "0             5849                0.0         NaN             360.0   \n",
              "1             4583             1508.0       128.0             360.0   \n",
              "2             3000                0.0        66.0             360.0   \n",
              "3             2583             2358.0       120.0             360.0   \n",
              "4             6000                0.0       141.0             360.0   \n",
              "\n",
              "   Credit_History Property_Area Loan_Status  \n",
              "0             1.0         Urban           Y  \n",
              "1             1.0         Rural           N  \n",
              "2             1.0         Urban           Y  \n",
              "3             1.0         Urban           Y  \n",
              "4             1.0         Urban           Y  "
            ]
          },
          "execution_count": 2,
          "metadata": {},
          "output_type": "execute_result"
        }
      ],
      "source": [
        "df = pd.read_csv(\"C:/Users/mailm/Downloads/LAP_Dataset.csv\")\n",
        "df.head(5)"
      ]
    },
    {
      "cell_type": "markdown",
      "metadata": {
        "id": "dR7vhU9G3sv4"
      },
      "source": [
        "**Displaying the information in the dataset**"
      ]
    },
    {
      "cell_type": "code",
      "execution_count": 3,
      "metadata": {
        "colab": {
          "base_uri": "https://localhost:8080/"
        },
        "id": "x6pnppfJQ9bu",
        "outputId": "c6d282fa-6e0d-4ff5-ebcc-9885c4844c9d"
      },
      "outputs": [
        {
          "name": "stdout",
          "output_type": "stream",
          "text": [
            "<class 'pandas.core.frame.DataFrame'>\n",
            "RangeIndex: 614 entries, 0 to 613\n",
            "Data columns (total 13 columns):\n",
            " #   Column             Non-Null Count  Dtype  \n",
            "---  ------             --------------  -----  \n",
            " 0   Loan_ID            614 non-null    object \n",
            " 1   Gender             601 non-null    object \n",
            " 2   Married            611 non-null    object \n",
            " 3   Dependents         599 non-null    object \n",
            " 4   Education          614 non-null    object \n",
            " 5   Self_Employed      582 non-null    object \n",
            " 6   ApplicantIncome    614 non-null    int64  \n",
            " 7   CoapplicantIncome  614 non-null    float64\n",
            " 8   LoanAmount         592 non-null    float64\n",
            " 9   Loan_Amount_Term   600 non-null    float64\n",
            " 10  Credit_History     564 non-null    float64\n",
            " 11  Property_Area      614 non-null    object \n",
            " 12  Loan_Status        614 non-null    object \n",
            "dtypes: float64(4), int64(1), object(8)\n",
            "memory usage: 62.5+ KB\n"
          ]
        }
      ],
      "source": [
        "df.info()"
      ]
    },
    {
      "cell_type": "code",
      "execution_count": 4,
      "metadata": {
        "id": "M-wCSdlYQZzn"
      },
      "outputs": [],
      "source": [
        "# Dropping Loan_ID column\n",
        "df.drop(['Loan_ID'],axis=1,inplace=True)"
      ]
    },
    {
      "cell_type": "code",
      "execution_count": 5,
      "metadata": {
        "colab": {
          "base_uri": "https://localhost:8080/",
          "height": 447
        },
        "id": "_e1Se3qsRwui",
        "outputId": "a3467a18-385c-4040-80de-fee6d60d7e43"
      },
      "outputs": [
        {
          "data": {
            "text/plain": [
              "<Axes: >"
            ]
          },
          "execution_count": 5,
          "metadata": {},
          "output_type": "execute_result"
        },
        {
          "data": {
            "image/png": "[encoded data removed]",
            "text/plain": [
              "<Figure size 640x480 with 1 Axes>"
            ]
          },
          "metadata": {},
          "output_type": "display_data"
        }
      ],
      "source": [
        "df['loanAmount_log']=np.log(df['LoanAmount'])\n",
        "df['loanAmount_log'].hist(bins=20)"
      ]
    },
    {
      "cell_type": "code",
      "execution_count": 6,
      "metadata": {
        "colab": {
          "base_uri": "https://localhost:8080/",
          "height": 447
        },
        "id": "5AwwIjezSeiM",
        "outputId": "1dfa7a07-1347-4622-894d-8d39398c5a16"
      },
      "outputs": [
        {
          "data": {
            "text/plain": [
              "<Axes: >"
            ]
          },
          "execution_count": 6,
          "metadata": {},
          "output_type": "execute_result"
        },
        {
          "data": {
            "image/png": "[encoded data removed]",
            "text/plain": [
              "<Figure size 640x480 with 1 Axes>"
            ]
          },
          "metadata": {},
          "output_type": "display_data"
        }
      ],
      "source": [
        "df['TotalIncome']=df['ApplicantIncome']+df['CoapplicantIncome']\n",
        "df['TotalIncome_log']=np.log(df['TotalIncome'])\n",
        "df['TotalIncome'].hist(bins=20)"
      ]
    },
    {
      "cell_type": "markdown",
      "metadata": {
        "id": "culEp6gi4EIe"
      },
      "source": [
        "**Displaying number of null values in each column**"
      ]
    },
    {
      "cell_type": "code",
      "execution_count": 7,
      "metadata": {
        "colab": {
          "base_uri": "https://localhost:8080/"
        },
        "id": "46nHTfvTRdF8",
        "outputId": "1292f3e5-187c-4a0d-86bd-10bbe5f5d275"
      },
      "outputs": [
        {
          "data": {
            "text/plain": [
              "Gender               13\n",
              "Married               3\n",
              "Dependents           15\n",
              "Education             0\n",
              "Self_Employed        32\n",
              "ApplicantIncome       0\n",
              "CoapplicantIncome     0\n",
              "LoanAmount           22\n",
              "Loan_Amount_Term     14\n",
              "Credit_History       50\n",
              "Property_Area         0\n",
              "Loan_Status           0\n",
              "loanAmount_log       22\n",
              "TotalIncome           0\n",
              "TotalIncome_log       0\n",
              "dtype: int64"
            ]
          },
          "execution_count": 7,
          "metadata": {},
          "output_type": "execute_result"
        }
      ],
      "source": [
        "df.isnull().sum()"
      ]
    },
    {
      "cell_type": "markdown",
      "metadata": {
        "id": "gmF_HM5-4LyI"
      },
      "source": [
        "**Deleting all rows with null values**"
      ]
    },
    {
      "cell_type": "code",
      "execution_count": 8,
      "metadata": {
        "id": "5LwM37kjUDCP"
      },
      "outputs": [],
      "source": [
        "df=df.dropna()"
      ]
    },
    {
      "cell_type": "code",
      "execution_count": 9,
      "metadata": {
        "colab": {
          "base_uri": "https://localhost:8080/"
        },
        "id": "cUdG0bOqU6bp",
        "outputId": "b0051b15-fd5b-496f-e139-f369e2ff6c70"
      },
      "outputs": [
        {
          "data": {
            "text/plain": [
              "Gender               0\n",
              "Married              0\n",
              "Dependents           0\n",
              "Education            0\n",
              "Self_Employed        0\n",
              "ApplicantIncome      0\n",
              "CoapplicantIncome    0\n",
              "LoanAmount           0\n",
              "Loan_Amount_Term     0\n",
              "Credit_History       0\n",
              "Property_Area        0\n",
              "Loan_Status          0\n",
              "loanAmount_log       0\n",
              "TotalIncome          0\n",
              "TotalIncome_log      0\n",
              "dtype: int64"
            ]
          },
          "execution_count": 9,
          "metadata": {},
          "output_type": "execute_result"
        }
      ],
      "source": [
        "df.isnull().sum()"
      ]
    },
    {
      "cell_type": "code",
      "execution_count": 10,
      "metadata": {
        "colab": {
          "base_uri": "https://localhost:8080/",
          "height": 546
        },
        "id": "fphgjKz_XIQF",
        "outputId": "b92f3d9b-4db7-495a-eb67-a44b74574255"
      },
      "outputs": [
        {
          "data": {
            "image/png": "[encoded data removed]",
            "text/plain": [
              "<Figure size 1800x3600 with 7 Axes>"
            ]
          },
          "metadata": {},
          "output_type": "display_data"
        }
      ],
      "source": [
        "obj = (df.dtypes == 'object')\n",
        "object_cols = list(obj[obj].index)\n",
        "plt.figure(figsize=(18,36))\n",
        "index = 1\n",
        "\n",
        "for col in object_cols:\n",
        "  y=df[col].value_counts()\n",
        "  plt.subplot(11,4,index)\n",
        "  plt.xticks(rotation=90)\n",
        "  sns.barplot(x=list(y.index), y=y)\n",
        "  index +=1"
      ]
    },
    {
      "cell_type": "code",
      "execution_count": 11,
      "metadata": {
        "colab": {
          "base_uri": "https://localhost:8080/"
        },
        "id": "uXx-UDLSvzfX",
        "outputId": "6a2cdc61-7edf-4ceb-a94b-80a3eba37fc4"
      },
      "outputs": [
        {
          "name": "stdout",
          "output_type": "stream",
          "text": [
            "<class 'pandas.core.frame.DataFrame'>\n",
            "Index: 480 entries, 1 to 613\n",
            "Data columns (total 15 columns):\n",
            " #   Column             Non-Null Count  Dtype  \n",
            "---  ------             --------------  -----  \n",
            " 0   Gender             480 non-null    object \n",
            " 1   Married            480 non-null    object \n",
            " 2   Dependents         480 non-null    object \n",
            " 3   Education          480 non-null    object \n",
            " 4   Self_Employed      480 non-null    object \n",
            " 5   ApplicantIncome    480 non-null    int64  \n",
            " 6   CoapplicantIncome  480 non-null    float64\n",
            " 7   LoanAmount         480 non-null    float64\n",
            " 8   Loan_Amount_Term   480 non-null    float64\n",
            " 9   Credit_History     480 non-null    float64\n",
            " 10  Property_Area      480 non-null    object \n",
            " 11  Loan_Status        480 non-null    object \n",
            " 12  loanAmount_log     480 non-null    float64\n",
            " 13  TotalIncome        480 non-null    float64\n",
            " 14  TotalIncome_log    480 non-null    float64\n",
            "dtypes: float64(7), int64(1), object(7)\n",
            "memory usage: 60.0+ KB\n"
          ]
        }
      ],
      "source": [
        "df.info()"
      ]
    },
    {
      "cell_type": "code",
      "execution_count": 12,
      "metadata": {
        "colab": {
          "base_uri": "https://localhost:8080/"
        },
        "id": "a_R6bZFuVAlb",
        "outputId": "bd817de1-8c77-4c80-9ca2-2be1b1452e05"
      },
      "outputs": [
        {
          "data": {
            "text/plain": [
              "array([['Male', 'Yes', '1', ..., 1.0, 4.852030263919617,\n",
              "        8.714567550836485],\n",
              "       ['Male', 'Yes', '0', ..., 1.0, 4.189654742026425,\n",
              "        8.006367567650246],\n",
              "       ['Male', 'Yes', '0', ..., 1.0, 4.787491742782046,\n",
              "        8.50532301884575],\n",
              "       ...,\n",
              "       ['Male', 'Yes', '1', ..., 1.0, 5.53338948872752,\n",
              "        9.025455532779063],\n",
              "       ['Male', 'Yes', '2', ..., 1.0, 5.231108616854587,\n",
              "        8.933664178700935],\n",
              "       ['Female', 'No', '0', ..., 0.0, 4.890349128221754,\n",
              "        8.430109084509125]], dtype=object)"
            ]
          },
          "execution_count": 12,
          "metadata": {},
          "output_type": "execute_result"
        }
      ],
      "source": [
        "x=df.iloc[:,np.r_[0:4,8:10,12,14]].values\n",
        "x"
      ]
    },
    {
      "cell_type": "code",
      "execution_count": 13,
      "metadata": {
        "colab": {
          "base_uri": "https://localhost:8080/"
        },
        "id": "QtLoAKrBVytz",
        "outputId": "2f9b8a83-60d8-4af1-bf9f-7118b0e7cd55"
      },
      "outputs": [
        {
          "data": {
            "text/plain": [
              "array(['N', 'Y', 'Y', 'Y', 'Y', 'Y', 'N', 'Y', 'N', 'Y', 'Y', 'N', 'Y',\n",
              "       'Y', 'N', 'N', 'N', 'Y', 'N', 'Y', 'Y', 'Y', 'N', 'N', 'N', 'Y',\n",
              "       'N', 'Y', 'Y', 'Y', 'N', 'Y', 'Y', 'Y', 'Y', 'N', 'Y', 'Y', 'Y',\n",
              "       'N', 'N', 'N', 'Y', 'Y', 'N', 'Y', 'Y', 'Y', 'Y', 'N', 'N', 'N',\n",
              "       'N', 'Y', 'Y', 'N', 'Y', 'Y', 'Y', 'Y', 'N', 'N', 'N', 'N', 'Y',\n",
              "       'N', 'Y', 'Y', 'Y', 'Y', 'Y', 'Y', 'Y', 'Y', 'Y', 'Y', 'Y', 'Y',\n",
              "       'Y', 'Y', 'Y', 'Y', 'Y', 'Y', 'N', 'Y', 'Y', 'Y', 'Y', 'N', 'Y',\n",
              "       'Y', 'Y', 'Y', 'Y', 'N', 'Y', 'Y', 'Y', 'Y', 'N', 'N', 'Y', 'N',\n",
              "       'N', 'N', 'Y', 'Y', 'Y', 'Y', 'Y', 'Y', 'Y', 'N', 'Y', 'N', 'Y',\n",
              "       'N', 'N', 'Y', 'Y', 'Y', 'Y', 'Y', 'N', 'N', 'Y', 'Y', 'N', 'Y',\n",
              "       'N', 'Y', 'N', 'Y', 'N', 'Y', 'Y', 'N', 'Y', 'N', 'N', 'Y', 'N',\n",
              "       'Y', 'Y', 'N', 'Y', 'Y', 'N', 'N', 'Y', 'Y', 'N', 'Y', 'N', 'Y',\n",
              "       'Y', 'Y', 'Y', 'Y', 'Y', 'Y', 'Y', 'N', 'N', 'N', 'Y', 'Y', 'Y',\n",
              "       'Y', 'N', 'Y', 'N', 'Y', 'Y', 'Y', 'N', 'Y', 'Y', 'Y', 'Y', 'Y',\n",
              "       'Y', 'Y', 'Y', 'Y', 'N', 'Y', 'Y', 'Y', 'N', 'Y', 'Y', 'Y', 'Y',\n",
              "       'N', 'N', 'Y', 'Y', 'N', 'Y', 'N', 'N', 'N', 'Y', 'N', 'Y', 'Y',\n",
              "       'Y', 'Y', 'Y', 'Y', 'Y', 'Y', 'Y', 'Y', 'Y', 'Y', 'Y', 'Y', 'Y',\n",
              "       'N', 'Y', 'Y', 'Y', 'Y', 'N', 'Y', 'Y', 'Y', 'Y', 'N', 'Y', 'Y',\n",
              "       'Y', 'Y', 'N', 'N', 'N', 'Y', 'Y', 'Y', 'Y', 'N', 'N', 'Y', 'Y',\n",
              "       'Y', 'Y', 'Y', 'N', 'Y', 'Y', 'Y', 'N', 'Y', 'Y', 'N', 'Y', 'Y',\n",
              "       'Y', 'Y', 'Y', 'N', 'N', 'Y', 'Y', 'Y', 'Y', 'Y', 'Y', 'N', 'Y',\n",
              "       'N', 'Y', 'Y', 'N', 'N', 'Y', 'N', 'Y', 'Y', 'Y', 'N', 'N', 'Y',\n",
              "       'N', 'Y', 'Y', 'Y', 'N', 'Y', 'Y', 'N', 'Y', 'Y', 'Y', 'Y', 'N',\n",
              "       'Y', 'Y', 'Y', 'Y', 'Y', 'Y', 'Y', 'N', 'Y', 'Y', 'N', 'N', 'N',\n",
              "       'Y', 'Y', 'N', 'Y', 'Y', 'Y', 'N', 'N', 'N', 'N', 'Y', 'N', 'Y',\n",
              "       'N', 'N', 'Y', 'Y', 'Y', 'Y', 'Y', 'Y', 'N', 'Y', 'Y', 'Y', 'Y',\n",
              "       'N', 'Y', 'Y', 'Y', 'N', 'Y', 'Y', 'Y', 'Y', 'Y', 'Y', 'Y', 'N',\n",
              "       'N', 'N', 'Y', 'Y', 'Y', 'Y', 'N', 'Y', 'N', 'Y', 'Y', 'N', 'Y',\n",
              "       'N', 'N', 'Y', 'N', 'Y', 'Y', 'Y', 'Y', 'Y', 'Y', 'Y', 'Y', 'Y',\n",
              "       'Y', 'Y', 'N', 'N', 'Y', 'N', 'Y', 'Y', 'N', 'Y', 'Y', 'Y', 'N',\n",
              "       'Y', 'Y', 'Y', 'Y', 'Y', 'Y', 'Y', 'N', 'Y', 'Y', 'N', 'N', 'Y',\n",
              "       'Y', 'N', 'N', 'Y', 'Y', 'Y', 'Y', 'Y', 'Y', 'Y', 'Y', 'Y', 'Y',\n",
              "       'N', 'Y', 'Y', 'Y', 'N', 'Y', 'Y', 'N', 'Y', 'Y', 'N', 'Y', 'N',\n",
              "       'Y', 'Y', 'N', 'N', 'Y', 'Y', 'Y', 'Y', 'Y', 'Y', 'Y', 'Y', 'N',\n",
              "       'Y', 'N', 'N', 'N', 'Y', 'Y', 'N', 'N', 'Y', 'Y', 'Y', 'Y', 'N',\n",
              "       'Y', 'N', 'N', 'Y', 'Y', 'N', 'Y', 'N', 'Y', 'Y', 'Y', 'N', 'Y',\n",
              "       'Y', 'Y', 'Y', 'Y', 'Y', 'Y', 'Y', 'Y', 'Y', 'Y', 'Y', 'N'],\n",
              "      dtype=object)"
            ]
          },
          "execution_count": 13,
          "metadata": {},
          "output_type": "execute_result"
        }
      ],
      "source": [
        "y=df.iloc[:,11].values\n",
        "y"
      ]
    },
    {
      "cell_type": "code",
      "execution_count": 14,
      "metadata": {
        "id": "ex3oiLQ3i7Lv"
      },
      "outputs": [],
      "source": [
        "from sklearn.preprocessing import LabelEncoder\n",
        "Labelencoder_x=LabelEncoder()"
      ]
    },
    {
      "cell_type": "code",
      "execution_count": 15,
      "metadata": {
        "colab": {
          "base_uri": "https://localhost:8080/"
        },
        "id": "nBJH4RXWjRPv",
        "outputId": "1aa8217e-1c6f-4dff-cbf1-2dc9e1a7f10b"
      },
      "outputs": [
        {
          "data": {
            "text/plain": [
              "array([[1, 1, 1, ..., 1.0, 4.852030263919617, 261],\n",
              "       [1, 1, 0, ..., 1.0, 4.189654742026425, 34],\n",
              "       [1, 1, 0, ..., 1.0, 4.787491742782046, 185],\n",
              "       ...,\n",
              "       [1, 1, 1, ..., 1.0, 5.53338948872752, 338],\n",
              "       [1, 1, 2, ..., 1.0, 5.231108616854587, 322],\n",
              "       [0, 0, 0, ..., 0.0, 4.890349128221754, 144]], dtype=object)"
            ]
          },
          "execution_count": 15,
          "metadata": {},
          "output_type": "execute_result"
        }
      ],
      "source": [
        "for i in range(0,5):\n",
        "  x[:,i]=Labelencoder_x.fit_transform(x[:,i])\n",
        "x[:,7]=Labelencoder_x.fit_transform(x[:,7])\n",
        "\n",
        "x"
      ]
    },
    {
      "cell_type": "code",
      "execution_count": 16,
      "metadata": {
        "colab": {
          "base_uri": "https://localhost:8080/"
        },
        "id": "Lcvn52_NjwmE",
        "outputId": "2cf6b713-5b7c-41b3-88a0-137ec877418d"
      },
      "outputs": [
        {
          "data": {
            "text/plain": [
              "array([0, 1, 1, 1, 1, 1, 0, 1, 0, 1, 1, 0, 1, 1, 0, 0, 0, 1, 0, 1, 1, 1,\n",
              "       0, 0, 0, 1, 0, 1, 1, 1, 0, 1, 1, 1, 1, 0, 1, 1, 1, 0, 0, 0, 1, 1,\n",
              "       0, 1, 1, 1, 1, 0, 0, 0, 0, 1, 1, 0, 1, 1, 1, 1, 0, 0, 0, 0, 1, 0,\n",
              "       1, 1, 1, 1, 1, 1, 1, 1, 1, 1, 1, 1, 1, 1, 1, 1, 1, 1, 0, 1, 1, 1,\n",
              "       1, 0, 1, 1, 1, 1, 1, 0, 1, 1, 1, 1, 0, 0, 1, 0, 0, 0, 1, 1, 1, 1,\n",
              "       1, 1, 1, 0, 1, 0, 1, 0, 0, 1, 1, 1, 1, 1, 0, 0, 1, 1, 0, 1, 0, 1,\n",
              "       0, 1, 0, 1, 1, 0, 1, 0, 0, 1, 0, 1, 1, 0, 1, 1, 0, 0, 1, 1, 0, 1,\n",
              "       0, 1, 1, 1, 1, 1, 1, 1, 1, 0, 0, 0, 1, 1, 1, 1, 0, 1, 0, 1, 1, 1,\n",
              "       0, 1, 1, 1, 1, 1, 1, 1, 1, 1, 0, 1, 1, 1, 0, 1, 1, 1, 1, 0, 0, 1,\n",
              "       1, 0, 1, 0, 0, 0, 1, 0, 1, 1, 1, 1, 1, 1, 1, 1, 1, 1, 1, 1, 1, 1,\n",
              "       1, 0, 1, 1, 1, 1, 0, 1, 1, 1, 1, 0, 1, 1, 1, 1, 0, 0, 0, 1, 1, 1,\n",
              "       1, 0, 0, 1, 1, 1, 1, 1, 0, 1, 1, 1, 0, 1, 1, 0, 1, 1, 1, 1, 1, 0,\n",
              "       0, 1, 1, 1, 1, 1, 1, 0, 1, 0, 1, 1, 0, 0, 1, 0, 1, 1, 1, 0, 0, 1,\n",
              "       0, 1, 1, 1, 0, 1, 1, 0, 1, 1, 1, 1, 0, 1, 1, 1, 1, 1, 1, 1, 0, 1,\n",
              "       1, 0, 0, 0, 1, 1, 0, 1, 1, 1, 0, 0, 0, 0, 1, 0, 1, 0, 0, 1, 1, 1,\n",
              "       1, 1, 1, 0, 1, 1, 1, 1, 0, 1, 1, 1, 0, 1, 1, 1, 1, 1, 1, 1, 0, 0,\n",
              "       0, 1, 1, 1, 1, 0, 1, 0, 1, 1, 0, 1, 0, 0, 1, 0, 1, 1, 1, 1, 1, 1,\n",
              "       1, 1, 1, 1, 1, 0, 0, 1, 0, 1, 1, 0, 1, 1, 1, 0, 1, 1, 1, 1, 1, 1,\n",
              "       1, 0, 1, 1, 0, 0, 1, 1, 0, 0, 1, 1, 1, 1, 1, 1, 1, 1, 1, 1, 0, 1,\n",
              "       1, 1, 0, 1, 1, 0, 1, 1, 0, 1, 0, 1, 1, 0, 0, 1, 1, 1, 1, 1, 1, 1,\n",
              "       1, 0, 1, 0, 0, 0, 1, 1, 0, 0, 1, 1, 1, 1, 0, 1, 0, 0, 1, 1, 0, 1,\n",
              "       0, 1, 1, 1, 0, 1, 1, 1, 1, 1, 1, 1, 1, 1, 1, 1, 1, 0])"
            ]
          },
          "execution_count": 16,
          "metadata": {},
          "output_type": "execute_result"
        }
      ],
      "source": [
        "Labelencoder_y=LabelEncoder()\n",
        "y=Labelencoder_y.fit_transform(y)\n",
        "y"
      ]
    },
    {
      "cell_type": "markdown",
      "metadata": {
        "id": "osmqz90b61Qh"
      },
      "source": [
        "**Splitting into training and testing datasets**"
      ]
    },
    {
      "cell_type": "code",
      "execution_count": 17,
      "metadata": {
        "id": "qA7UOX0pkBNl"
      },
      "outputs": [],
      "source": [
        "from sklearn.model_selection import train_test_split\n",
        "X_train, X_test, Y_train, Y_test = train_test_split(x,y,test_size=0.3,random_state=0)"
      ]
    },
    {
      "cell_type": "code",
      "execution_count": 18,
      "metadata": {
        "colab": {
          "base_uri": "https://localhost:8080/"
        },
        "id": "lM_87anwkJse",
        "outputId": "9b213456-3982-425d-cd89-04506657d784"
      },
      "outputs": [
        {
          "data": {
            "text/plain": [
              "array([[1, 0, 0, ..., 1.0, 4.430816798843313, 304],\n",
              "       [0, 0, 0, ..., 1.0, 4.709530201312334, 91],\n",
              "       [0, 0, 0, ..., 1.0, 4.382026634673881, 47],\n",
              "       ...,\n",
              "       [1, 0, 0, ..., 1.0, 5.497168225293202, 353],\n",
              "       [1, 1, 0, ..., 1.0, 4.787491742782046, 273],\n",
              "       [1, 1, 0, ..., 0.0, 4.0943445622221, 7]], dtype=object)"
            ]
          },
          "execution_count": 18,
          "metadata": {},
          "output_type": "execute_result"
        }
      ],
      "source": [
        "X_train"
      ]
    },
    {
      "cell_type": "markdown",
      "metadata": {
        "id": "PKZnnQ6z6DLh"
      },
      "source": [
        "# **RANDOM FOREST CLASSIFIER**"
      ]
    },
    {
      "cell_type": "code",
      "execution_count": 19,
      "metadata": {
        "colab": {
          "base_uri": "https://localhost:8080/"
        },
        "id": "4TEEeBqxlzb4",
        "outputId": "d33d78f3-02c1-4fd4-cfc6-b85e3769fad7"
      },
      "outputs": [
        {
          "name": "stdout",
          "output_type": "stream",
          "text": [
            "Accuracy of Random Forest Classifier =  0.7708333333333334\n",
            "Precision of Random Forest Classifier =  0.9157894736842105\n",
            "Recall of Random Forest Classifier =  0.7767857142857143\n",
            "F1-Score of Random Forest Classifier =  0.8405797101449276\n"
          ]
        },
        {
          "data": {
            "text/plain": [
              "array([1, 1, 1, 1, 0, 0, 1, 1, 1, 1, 1, 1, 0, 1, 1, 1, 1, 1, 0, 1, 1, 1,\n",
              "       1, 1, 0, 0, 1, 1, 1, 1, 1, 1, 0, 1, 1, 1, 1, 1, 1, 0, 1, 1, 0, 1,\n",
              "       1, 1, 1, 1, 1, 1, 1, 1, 1, 1, 1, 1, 0, 0, 0, 0, 1, 0, 0, 1, 1, 0,\n",
              "       1, 1, 1, 1, 1, 1, 1, 0, 1, 1, 1, 1, 1, 0, 1, 1, 1, 0, 1, 1, 0, 1,\n",
              "       1, 0, 0, 0, 1, 1, 1, 1, 1, 1, 1, 1, 1, 1, 1, 1, 1, 1, 0, 1, 1, 1,\n",
              "       1, 1, 0, 1, 1, 1, 1, 1, 0, 1, 1, 1, 1, 1, 1, 0, 1, 0, 1, 1, 1, 1,\n",
              "       1, 1, 0, 1, 1, 0, 1, 1, 1, 0, 0, 1])"
            ]
          },
          "execution_count": 19,
          "metadata": {},
          "output_type": "execute_result"
        }
      ],
      "source": [
        "import joblib\n",
        "from sklearn.ensemble import RandomForestClassifier\n",
        "rfc = RandomForestClassifier(n_estimators=80)\n",
        "rfc.fit(X_train,Y_train)\n",
        "y_pred_rc = rfc.predict(X_test)\n",
        "joblib.dump(rfc, 'loan_classifier.pkl')\n",
        "print(\"Accuracy of Random Forest Classifier = \",metrics.accuracy_score(y_pred_rc,Y_test))\n",
        "print(\"Precision of Random Forest Classifier = \",metrics.precision_score(y_pred_rc,Y_test))\n",
        "print(\"Recall of Random Forest Classifier = \",metrics.recall_score(y_pred_rc,Y_test))\n",
        "print(\"F1-Score of Random Forest Classifier = \",metrics.f1_score(y_pred_rc,Y_test))\n",
        "y_pred_rc"
      ]
    },
    {
      "cell_type": "markdown",
      "metadata": {
        "id": "8vhNciHI7QEz"
      },
      "source": [
        "**CONFUSION MATRIX**"
      ]
    },
    {
      "cell_type": "code",
      "execution_count": 20,
      "metadata": {
        "colab": {
          "base_uri": "https://localhost:8080/",
          "height": 157
        },
        "id": "9Cnof148u06w",
        "outputId": "19d68a89-5d68-4129-f1de-91b42b87baf5"
      },
      "outputs": [
        {
          "data": {
            "text/html": [
              "<div>\n",
              "<style scoped>\n",
              "    .dataframe tbody tr th:only-of-type {\n",
              "        vertical-align: middle;\n",
              "    }\n",
              "\n",
              "    .dataframe tbody tr th {\n",
              "        vertical-align: top;\n",
              "    }\n",
              "\n",
              "    .dataframe thead th {\n",
              "        text-align: right;\n",
              "    }\n",
              "</style>\n",
              "<table border=\"1\" class=\"dataframe\">\n",
              "  <thead>\n",
              "    <tr style=\"text-align: right;\">\n",
              "      <th></th>\n",
              "      <th>0</th>\n",
              "      <th>1</th>\n",
              "      <th>All</th>\n",
              "    </tr>\n",
              "    <tr>\n",
              "      <th></th>\n",
              "      <th></th>\n",
              "      <th></th>\n",
              "      <th></th>\n",
              "    </tr>\n",
              "  </thead>\n",
              "  <tbody>\n",
              "    <tr>\n",
              "      <th>0</th>\n",
              "      <td>24</td>\n",
              "      <td>25</td>\n",
              "      <td>49</td>\n",
              "    </tr>\n",
              "    <tr>\n",
              "      <th>1</th>\n",
              "      <td>8</td>\n",
              "      <td>87</td>\n",
              "      <td>95</td>\n",
              "    </tr>\n",
              "    <tr>\n",
              "      <th>All</th>\n",
              "      <td>32</td>\n",
              "      <td>112</td>\n",
              "      <td>144</td>\n",
              "    </tr>\n",
              "  </tbody>\n",
              "</table>\n",
              "</div>"
            ],
            "text/plain": [
              "      0    1  All\n",
              "                 \n",
              "0    24   25   49\n",
              "1     8   87   95\n",
              "All  32  112  144"
            ]
          },
          "execution_count": 20,
          "metadata": {},
          "output_type": "execute_result"
        }
      ],
      "source": [
        "pd.crosstab(Y_test, y_pred_rc, rownames=[''], colnames=[''], margins=True)"
      ]
    },
    {
      "cell_type": "markdown",
      "metadata": {
        "id": "TwLFQj7T54m0"
      },
      "source": [
        "# **DECISION TREE CLASSIFIER**"
      ]
    },
    {
      "cell_type": "code",
      "execution_count": 21,
      "metadata": {
        "colab": {
          "base_uri": "https://localhost:8080/"
        },
        "id": "EDgIAjltpFNl",
        "outputId": "43ed357b-92cc-484f-c32a-51ec3b4dcc0c"
      },
      "outputs": [
        {
          "name": "stdout",
          "output_type": "stream",
          "text": [
            "Accuracy of Decision Tree Classifier =  0.6458333333333334\n",
            "Precision of Decision Tree  Classifier =  0.7473684210526316\n",
            "Recall of Decision Tree Classifier =  0.7244897959183674\n",
            "F1-Score of Decision Tree  Classifier =  0.7357512953367875\n"
          ]
        },
        {
          "data": {
            "text/plain": [
              "array([1, 1, 1, 0, 0, 0, 1, 1, 1, 0, 0, 1, 0, 1, 1, 1, 1, 1, 0, 1, 1, 1,\n",
              "       1, 1, 0, 0, 1, 1, 1, 0, 1, 1, 1, 1, 1, 1, 1, 1, 1, 0, 1, 1, 0, 0,\n",
              "       1, 1, 1, 1, 0, 0, 1, 1, 1, 1, 0, 0, 0, 0, 1, 0, 1, 0, 1, 1, 1, 1,\n",
              "       1, 1, 0, 0, 1, 1, 1, 0, 1, 0, 0, 1, 1, 0, 1, 1, 0, 1, 1, 1, 0, 1,\n",
              "       1, 0, 0, 0, 1, 0, 1, 0, 1, 1, 0, 1, 1, 1, 1, 1, 1, 1, 0, 1, 1, 1,\n",
              "       1, 1, 0, 1, 1, 1, 1, 1, 1, 1, 1, 1, 1, 1, 0, 0, 1, 0, 1, 0, 1, 1,\n",
              "       1, 1, 0, 1, 0, 1, 1, 0, 1, 0, 0, 1])"
            ]
          },
          "execution_count": 21,
          "metadata": {},
          "output_type": "execute_result"
        }
      ],
      "source": [
        "from sklearn.tree import DecisionTreeClassifier\n",
        "dt=DecisionTreeClassifier()\n",
        "dt.fit(X_train,Y_train)\n",
        "y_pred_dt = dt.predict(X_test)\n",
        "print(\"Accuracy of Decision Tree Classifier = \",metrics.accuracy_score(y_pred_dt,Y_test))\n",
        "print(\"Precision of Decision Tree  Classifier = \",metrics.precision_score(y_pred_dt,Y_test))\n",
        "print(\"Recall of Decision Tree Classifier = \",metrics.recall_score(y_pred_dt,Y_test))\n",
        "print(\"F1-Score of Decision Tree  Classifier = \",metrics.f1_score(y_pred_dt,Y_test))\n",
        "y_pred_dt"
      ]
    },
    {
      "cell_type": "markdown",
      "metadata": {
        "id": "vAiag2wL7XjP"
      },
      "source": [
        "**CONFUSION MATRIX**"
      ]
    },
    {
      "cell_type": "code",
      "execution_count": 22,
      "metadata": {
        "colab": {
          "base_uri": "https://localhost:8080/",
          "height": 157
        },
        "id": "K2peqsbnwB4V",
        "outputId": "773e66ce-1926-4db8-ef31-4e6b8cf062b7"
      },
      "outputs": [
        {
          "data": {
            "text/html": [
              "<div>\n",
              "<style scoped>\n",
              "    .dataframe tbody tr th:only-of-type {\n",
              "        vertical-align: middle;\n",
              "    }\n",
              "\n",
              "    .dataframe tbody tr th {\n",
              "        vertical-align: top;\n",
              "    }\n",
              "\n",
              "    .dataframe thead th {\n",
              "        text-align: right;\n",
              "    }\n",
              "</style>\n",
              "<table border=\"1\" class=\"dataframe\">\n",
              "  <thead>\n",
              "    <tr style=\"text-align: right;\">\n",
              "      <th></th>\n",
              "      <th>0</th>\n",
              "      <th>1</th>\n",
              "      <th>All</th>\n",
              "    </tr>\n",
              "    <tr>\n",
              "      <th></th>\n",
              "      <th></th>\n",
              "      <th></th>\n",
              "      <th></th>\n",
              "    </tr>\n",
              "  </thead>\n",
              "  <tbody>\n",
              "    <tr>\n",
              "      <th>0</th>\n",
              "      <td>22</td>\n",
              "      <td>27</td>\n",
              "      <td>49</td>\n",
              "    </tr>\n",
              "    <tr>\n",
              "      <th>1</th>\n",
              "      <td>24</td>\n",
              "      <td>71</td>\n",
              "      <td>95</td>\n",
              "    </tr>\n",
              "    <tr>\n",
              "      <th>All</th>\n",
              "      <td>46</td>\n",
              "      <td>98</td>\n",
              "      <td>144</td>\n",
              "    </tr>\n",
              "  </tbody>\n",
              "</table>\n",
              "</div>"
            ],
            "text/plain": [
              "      0   1  All\n",
              "                \n",
              "0    22  27   49\n",
              "1    24  71   95\n",
              "All  46  98  144"
            ]
          },
          "execution_count": 22,
          "metadata": {},
          "output_type": "execute_result"
        }
      ],
      "source": [
        "pd.crosstab(Y_test, y_pred_dt, rownames=[''], colnames=[''], margins=True)"
      ]
    },
    {
      "cell_type": "markdown",
      "metadata": {
        "id": "Ylrcey5B4uz4"
      },
      "source": [
        "# **K-NEAREST NEIGHBORS CLASSIFIER**"
      ]
    },
    {
      "cell_type": "code",
      "execution_count": 23,
      "metadata": {
        "colab": {
          "base_uri": "https://localhost:8080/"
        },
        "id": "BHyT-xjVpoGu",
        "outputId": "38eea4ab-f687-4722-b3ec-d3c86f0446a4"
      },
      "outputs": [
        {
          "name": "stdout",
          "output_type": "stream",
          "text": [
            "Accuracy of K-Neighbors Classifier =  0.6527777777777778\n",
            "Precision of K-Neighbors Classifier =  0.8631578947368421\n",
            "Recall of K-Neighbors Classifier =  0.7767857142857143\n",
            "F1-Score of K-Neighbors Classifier =  0.7663551401869159\n"
          ]
        },
        {
          "data": {
            "text/plain": [
              "array([1, 1, 0, 1, 0, 0, 1, 1, 1, 1, 1, 0, 1, 1, 1, 1, 1, 1, 1, 1, 1, 1,\n",
              "       1, 1, 1, 0, 1, 1, 1, 0, 1, 0, 1, 1, 1, 1, 0, 1, 1, 1, 1, 1, 1, 1,\n",
              "       1, 1, 1, 1, 1, 1, 1, 1, 0, 1, 1, 1, 0, 1, 1, 0, 1, 1, 1, 1, 1, 1,\n",
              "       1, 1, 1, 1, 0, 1, 1, 1, 1, 1, 1, 1, 1, 1, 1, 1, 1, 1, 0, 1, 1, 1,\n",
              "       1, 1, 0, 1, 1, 1, 0, 0, 1, 0, 0, 1, 1, 1, 1, 0, 1, 1, 1, 1, 1, 0,\n",
              "       1, 1, 1, 1, 1, 1, 1, 1, 1, 1, 1, 1, 1, 1, 0, 0, 1, 1, 1, 1, 1, 1,\n",
              "       1, 1, 1, 1, 1, 1, 0, 0, 1, 1, 1, 0])"
            ]
          },
          "execution_count": 23,
          "metadata": {},
          "output_type": "execute_result"
        }
      ],
      "source": [
        "from sklearn.neighbors import KNeighborsClassifier\n",
        "kn=KNeighborsClassifier(n_neighbors=10)\n",
        "kn.fit(X_train,Y_train)\n",
        "y_pred_kn = kn.predict(X_test)\n",
        "print(\"Accuracy of K-Neighbors Classifier = \",metrics.accuracy_score(y_pred_kn,Y_test))\n",
        "print(\"Precision of K-Neighbors Classifier = \",metrics.precision_score(y_pred_kn,Y_test))\n",
        "print(\"Recall of K-Neighbors Classifier = \",metrics.recall_score(y_pred_rc,Y_test))\n",
        "print(\"F1-Score of K-Neighbors Classifier = \",metrics.f1_score(y_pred_kn,Y_test))\n",
        "y_pred_kn"
      ]
    },
    {
      "cell_type": "markdown",
      "metadata": {
        "id": "8gaNlWAV7XVI"
      },
      "source": [
        "**CONFUSION MATRIX**"
      ]
    },
    {
      "cell_type": "code",
      "execution_count": 24,
      "metadata": {
        "colab": {
          "base_uri": "https://localhost:8080/",
          "height": 157
        },
        "id": "ZAdGS6mt3Dw2",
        "outputId": "bb19ac2f-d33e-41b8-f239-a4a4b90f0dae"
      },
      "outputs": [
        {
          "data": {
            "text/html": [
              "<div>\n",
              "<style scoped>\n",
              "    .dataframe tbody tr th:only-of-type {\n",
              "        vertical-align: middle;\n",
              "    }\n",
              "\n",
              "    .dataframe tbody tr th {\n",
              "        vertical-align: top;\n",
              "    }\n",
              "\n",
              "    .dataframe thead th {\n",
              "        text-align: right;\n",
              "    }\n",
              "</style>\n",
              "<table border=\"1\" class=\"dataframe\">\n",
              "  <thead>\n",
              "    <tr style=\"text-align: right;\">\n",
              "      <th></th>\n",
              "      <th>0</th>\n",
              "      <th>1</th>\n",
              "      <th>All</th>\n",
              "    </tr>\n",
              "    <tr>\n",
              "      <th></th>\n",
              "      <th></th>\n",
              "      <th></th>\n",
              "      <th></th>\n",
              "    </tr>\n",
              "  </thead>\n",
              "  <tbody>\n",
              "    <tr>\n",
              "      <th>0</th>\n",
              "      <td>12</td>\n",
              "      <td>37</td>\n",
              "      <td>49</td>\n",
              "    </tr>\n",
              "    <tr>\n",
              "      <th>1</th>\n",
              "      <td>13</td>\n",
              "      <td>82</td>\n",
              "      <td>95</td>\n",
              "    </tr>\n",
              "    <tr>\n",
              "      <th>All</th>\n",
              "      <td>25</td>\n",
              "      <td>119</td>\n",
              "      <td>144</td>\n",
              "    </tr>\n",
              "  </tbody>\n",
              "</table>\n",
              "</div>"
            ],
            "text/plain": [
              "      0    1  All\n",
              "                 \n",
              "0    12   37   49\n",
              "1    13   82   95\n",
              "All  25  119  144"
            ]
          },
          "execution_count": 24,
          "metadata": {},
          "output_type": "execute_result"
        }
      ],
      "source": [
        "pd.crosstab(Y_test, y_pred_kn, rownames=[''], colnames=[''], margins=True)"
      ]
    },
    {
      "cell_type": "markdown",
      "metadata": {
        "id": "5BjX-JB64g7u"
      },
      "source": [
        "# **SUPPORT VECTOR CLASSIFIER**"
      ]
    },
    {
      "cell_type": "code",
      "execution_count": 25,
      "metadata": {
        "colab": {
          "base_uri": "https://localhost:8080/"
        },
        "id": "ZLHiUysXq4TX",
        "outputId": "0910da47-1de0-4b27-c8d0-4266e7d29668"
      },
      "outputs": [
        {
          "name": "stdout",
          "output_type": "stream",
          "text": [
            "Accuracy of Support Vector Classifier =  0.6597222222222222\n",
            "Precision of Support Vector Classifier =  1.0\n",
            "Recall of Support Vector Classifier =  0.6597222222222222\n",
            "F1-Score of Support Vector Classifier =  0.7949790794979079\n"
          ]
        },
        {
          "data": {
            "text/plain": [
              "array([1, 1, 1, 1, 1, 1, 1, 1, 1, 1, 1, 1, 1, 1, 1, 1, 1, 1, 1, 1, 1, 1,\n",
              "       1, 1, 1, 1, 1, 1, 1, 1, 1, 1, 1, 1, 1, 1, 1, 1, 1, 1, 1, 1, 1, 1,\n",
              "       1, 1, 1, 1, 1, 1, 1, 1, 1, 1, 1, 1, 1, 1, 1, 1, 1, 1, 1, 1, 1, 1,\n",
              "       1, 1, 1, 1, 1, 1, 1, 1, 1, 1, 1, 1, 1, 1, 1, 1, 1, 1, 1, 1, 1, 1,\n",
              "       1, 1, 1, 1, 1, 1, 1, 1, 1, 1, 1, 1, 1, 1, 1, 1, 1, 1, 1, 1, 1, 1,\n",
              "       1, 1, 1, 1, 1, 1, 1, 1, 1, 1, 1, 1, 1, 1, 1, 1, 1, 1, 1, 1, 1, 1,\n",
              "       1, 1, 1, 1, 1, 1, 1, 1, 1, 1, 1, 1])"
            ]
          },
          "execution_count": 25,
          "metadata": {},
          "output_type": "execute_result"
        }
      ],
      "source": [
        "from sklearn.svm import SVC\n",
        "svc = SVC()\n",
        "svc.fit(X_train,Y_train)\n",
        "y_pred_svc = svc.predict(X_test)\n",
        "print(\"Accuracy of Support Vector Classifier = \",metrics.accuracy_score(y_pred_svc,Y_test))\n",
        "print(\"Precision of Support Vector Classifier = \",metrics.precision_score(y_pred_svc,Y_test))\n",
        "print(\"Recall of Support Vector Classifier = \",metrics.recall_score(y_pred_svc,Y_test))\n",
        "print(\"F1-Score of Support Vector Classifier = \",metrics.f1_score(y_pred_svc,Y_test))\n",
        "y_pred_svc"
      ]
    },
    {
      "cell_type": "markdown",
      "metadata": {
        "id": "pOd-00X17Xpq"
      },
      "source": [
        "**CONFUSION MATRIX**"
      ]
    },
    {
      "cell_type": "code",
      "execution_count": 26,
      "metadata": {
        "colab": {
          "base_uri": "https://localhost:8080/",
          "height": 157
        },
        "id": "kRIZICxP3BBj",
        "outputId": "09b072e0-7b0e-44e8-cdd8-edd2c6c05985"
      },
      "outputs": [
        {
          "data": {
            "text/html": [
              "<div>\n",
              "<style scoped>\n",
              "    .dataframe tbody tr th:only-of-type {\n",
              "        vertical-align: middle;\n",
              "    }\n",
              "\n",
              "    .dataframe tbody tr th {\n",
              "        vertical-align: top;\n",
              "    }\n",
              "\n",
              "    .dataframe thead th {\n",
              "        text-align: right;\n",
              "    }\n",
              "</style>\n",
              "<table border=\"1\" class=\"dataframe\">\n",
              "  <thead>\n",
              "    <tr style=\"text-align: right;\">\n",
              "      <th></th>\n",
              "      <th>1</th>\n",
              "      <th>All</th>\n",
              "    </tr>\n",
              "    <tr>\n",
              "      <th></th>\n",
              "      <th></th>\n",
              "      <th></th>\n",
              "    </tr>\n",
              "  </thead>\n",
              "  <tbody>\n",
              "    <tr>\n",
              "      <th>0</th>\n",
              "      <td>49</td>\n",
              "      <td>49</td>\n",
              "    </tr>\n",
              "    <tr>\n",
              "      <th>1</th>\n",
              "      <td>95</td>\n",
              "      <td>95</td>\n",
              "    </tr>\n",
              "    <tr>\n",
              "      <th>All</th>\n",
              "      <td>144</td>\n",
              "      <td>144</td>\n",
              "    </tr>\n",
              "  </tbody>\n",
              "</table>\n",
              "</div>"
            ],
            "text/plain": [
              "       1  All\n",
              "             \n",
              "0     49   49\n",
              "1     95   95\n",
              "All  144  144"
            ]
          },
          "execution_count": 26,
          "metadata": {},
          "output_type": "execute_result"
        }
      ],
      "source": [
        "pd.crosstab(Y_test, y_pred_svc, rownames=[''], colnames=[''], margins=True)"
      ]
    },
    {
      "cell_type": "markdown",
      "metadata": {},
      "source": [
        "GUI TRY\n"
      ]
    },
    {
      "cell_type": "code",
      "execution_count": 4,
      "metadata": {},
      "outputs": [],
      "source": [
        "def calculate():\n",
        "    try:\n",
        "        amount = float(var_amount.get())\n",
        "        term = var_term.get()\n",
        "        income = float(var_income.get())\n",
        "        loan_to_income = float(var_loan_to_income.get())\n",
        "        loan_to_income = amount / income\n",
        "        job = var_job.get()\n",
        "        owns_property = var_owns_property.get()\n",
        "\n",
        "        # Label encoding\n",
        "        job_le = LabelEncoder()\n",
        "        term_le = LabelEncoder()\n",
        "        owns_property_le = LabelEncoder()\n",
        "\n",
        "        job = job_le.fit_transform(job)\n",
        "        term = term_le.fit_transform(term)\n",
        "        owns_property = owns_property_le.fit_transform(owns_property)\n",
        "\n",
        "        data = [[amount, term, income, loan_to_income, job, owns_property]]\n",
        "\n",
        "        # Fetch trained model\n",
        "        model = RandomForestClassifier(n_estimators=80)\n",
        "        model.load('loan_classifier.pkl')\n",
        "\n",
        "        # Predict loan status\n",
        "        result = model.predict(data)\n",
        "\n",
        "        # Display result\n",
        "        if result[0] == 1:\n",
        "            label_result.config(text=\"Loan passed!\", fg=\"green\")\n",
        "        else:\n",
        "            label_result.config(text=\"Loan not passed.\", fg=\"red\")\n",
        "    except Exception as e:\n",
        "        label_result.config(text=str(e), fg=\"red\")"
      ]
    },
    {
      "cell_type": "code",
      "execution_count": 2,
      "metadata": {},
      "outputs": [],
      "source": [
        "import tkinter as tk\n",
        "from tkinter import ttk\n",
        "import pandas as pd\n",
        "import numpy as np\n",
        "from sklearn.ensemble import RandomForestClassifier\n",
        "from sklearn.model_selection import train_test_split\n",
        "from sklearn.preprocessing import LabelEncoder\n",
        "from sklearn.metrics import confusion_matrix\n"
      ]
    },
    {
      "cell_type": "code",
      "execution_count": 29,
      "metadata": {},
      "outputs": [
        {
          "data": {
            "text/plain": [
              "''"
            ]
          },
          "execution_count": 29,
          "metadata": {},
          "output_type": "execute_result"
        }
      ],
      "source": [
        "window = tk.Tk()\n",
        "window.title(\"Loan Status Checker\")"
      ]
    },
    {
      "cell_type": "code",
      "execution_count": 30,
      "metadata": {},
      "outputs": [],
      "source": [
        "# Create labels and entries\n",
        "label_amount = ttk.Label(window, text=\"Loan Amount:\")\n",
        "label_term = ttk.Label(window, text=\"Term:\")\n",
        "label_income = ttk.Label(window, text=\"Total Income:\")\n",
        "label_loan_to_income = ttk.Label(window, text=\"Loan to Income Ratio:\")\n",
        "label_job = ttk.Label(window, text=\"Job:\")\n",
        "label_owns_property = ttk.Label(window, text=\"Owns Property:\")\n",
        "label_result = ttk.Label(window, text=\"\")"
      ]
    },
    {
      "cell_type": "code",
      "execution_count": 31,
      "metadata": {},
      "outputs": [],
      "source": [
        "entry_amount = ttk.Entry(window)\n",
        "entry_term = ttk.Entry(window)\n",
        "entry_income = ttk.Entry(window)\n",
        "entry_loan_to_income = ttk.Entry(window)\n",
        "var_job = tk.StringVar()\n",
        "option_job = ttk.Combobox(window, textvariable=var_job)\n",
        "option_job['values'] = ('Self-Employed', 'Other')\n",
        "var_owns_property = tk.StringVar()\n",
        "option_owns_property = ttk.Combobox(window, textvariable=var_owns_property)\n",
        "option_owns_property['values'] = ('Yes', 'No')"
      ]
    },
    {
      "cell_type": "code",
      "execution_count": 32,
      "metadata": {},
      "outputs": [],
      "source": [
        "# Create a button to calculate\n",
        "button_calculate = ttk.Button(window, text=\"Calculate\", command=calculate)"
      ]
    },
    {
      "cell_type": "code",
      "execution_count": 33,
      "metadata": {},
      "outputs": [],
      "source": [
        "# Place labels and entries in the grid\n",
        "label_amount.grid(row=0, column=0)\n",
        "entry_amount.grid(row=0, column=1)\n",
        "label_term.grid(row=1, column=0)\n",
        "entry_term.grid(row=1, column=1)\n",
        "label_income.grid(row=2, column=0)\n",
        "entry_income.grid(row=2, column=1)\n",
        "label_loan_to_income.grid(row=3, column=0)\n",
        "entry_loan_to_income.grid(row=3, column=1)\n",
        "label_job.grid(row=4, column=0)\n",
        "option_job.grid(row=4, column=1)\n",
        "label_owns_property.grid(row=5, column=0)\n",
        "option_owns_property.grid(row=5, column=1)"
      ]
    },
    {
      "cell_type": "code",
      "execution_count": 34,
      "metadata": {},
      "outputs": [],
      "source": [
        "label_result.grid(row=6, column=0, columnspan=2)\n",
        "\n",
        "button_calculate.grid(row=7, column=0, columnspan=2)\n"
      ]
    },
    {
      "cell_type": "code",
      "execution_count": 35,
      "metadata": {},
      "outputs": [],
      "source": [
        "\n",
        "# Start the main event loop\n",
        "window.mainloop()"
      ]
    },
    {
      "cell_type": "code",
      "execution_count": 6,
      "metadata": {},
      "outputs": [],
      "source": [
        "\n",
        "# def calculate():\n",
        "#     try:\n",
        "#         amount = float(var_amount.get())\n",
        "#         term = var_term.get()\n",
        "#         income = float(var_income.get())\n",
        "#         loan_to_income = float(var_loan_to_income.get())\n",
        "#         loan_to_income = amount / income\n",
        "#         job = var_job.get()\n",
        "#         owns_property = var_owns_property.get()\n",
        "\n",
        "#         # Label encoding\n",
        "#         job_le = LabelEncoder()\n",
        "#         term_le = LabelEncoder()\n",
        "#         owns_property_le = LabelEncoder()\n",
        "\n",
        "#         job = job_le.fit_transform(job)\n",
        "#         term = term_le.fit_transform(term)\n",
        "#         owns_property = owns_property_le.fit_transform(owns_property)\n",
        "\n",
        "#         data = [[amount, term, income, loan_to_income, job, owns_property]]\n",
        "\n",
        "#         # Fetch trained model\n",
        "#         model = RandomForestClassifier(n_estimators=80)\n",
        "#         model.load('loan_classifier.pkl')\n",
        "\n",
        "#         # Predict loan status\n",
        "#         result = model.predict(data)\n",
        "\n",
        "#         # Display result\n",
        "#         if result[0] == 1:\n",
        "#             label_result.config(text=\"Loan passed!\", fg=\"green\")\n",
        "#         else:\n",
        "#             label_result.config(text=\"Loan not passed.\", fg=\"red\")\n",
        "#     except Exception as e:\n",
        "#         label_result.config(text=str(e), fg=\"red\")\n",
        "\n",
        "# Create the GUI window\n",
        "window = tk.Tk()\n",
        "window.title(\"Loan Status Checker\")\n",
        "\n",
        "# Create labels and entries\n",
        "label_amount = ttk.Label(window, text=\"Loan Amount:\")\n",
        "label_term = ttk.Label(window, text=\"Term:\")\n",
        "label_income = ttk.Label(window, text=\"Total Income:\")\n",
        "label_loan_to_income = ttk.Label(window, text=\"Loan to Income Ratio:\")\n",
        "label_job = ttk.Label(window, text=\"Job:\")\n",
        "label_owns_property = ttk.Label(window, text=\"Owns Property:\")\n",
        "label_result = ttk.Label(window, text=\"\")\n",
        "\n",
        "entry_amount = ttk.Entry(window)\n",
        "entry_term = ttk.Entry(window)\n",
        "entry_income = ttk.Entry(window)\n",
        "entry_loan_to_income = ttk.Entry(window)\n",
        "var_job = tk.StringVar()\n",
        "option_job = ttk.Combobox(window, textvariable=var_job)\n",
        "option_job['values'] = ('Self-Employed', 'Other')\n",
        "var_owns_property = tk.StringVar()\n",
        "option_owns_property = ttk.Combobox(window, textvariable=var_owns_property)\n",
        "option_owns_property['values'] = ('Yes', 'No')\n",
        "\n",
        "# Create a button to calculate\n",
        "button_calculate = ttk.Button(window, text=\"Calculate\", command=calculate)\n",
        "\n",
        "# Place labels and entries in the grid\n",
        "label_amount.grid(row=0, column=0)\n",
        "entry_amount.grid(row=0, column=1)\n",
        "label_term.grid(row=1, column=0)\n",
        "entry_term.grid(row=1, column=1)\n",
        "label_income.grid(row=2, column=0)\n",
        "entry_income.grid(row=2, column=1)\n",
        "label_loan_to_income.grid(row=3, column=0)\n",
        "entry_loan_to_income.grid(row=3, column=1)\n",
        "label_job.grid(row=4, column=0)\n",
        "option_job.grid(row=4, column=1)\n",
        "label_owns_property.grid(row=5, column=0)\n",
        "option_owns_property.grid(row=5, column=1)\n",
        "\n",
        "label_result.grid(row=6, column=0, columnspan=2)\n",
        "\n",
        "button_calculate.grid(row=7, column=0, columnspan=2)\n",
        "window.update()\n",
        "\n",
        "\n",
        "# Start the main event loop\n",
        "window.mainloop()"
      ]
    },
    {
      "cell_type": "code",
      "execution_count": null,
      "metadata": {},
      "outputs": [],
      "source": []
    },
    {
      "cell_type": "code",
      "execution_count": null,
      "metadata": {},
      "outputs": [],
      "source": []
    },
    {
      "cell_type": "code",
      "execution_count": null,
      "metadata": {},
      "outputs": [],
      "source": []
    },
    {
      "cell_type": "code",
      "execution_count": null,
      "metadata": {},
      "outputs": [],
      "source": []
    },
    {
      "cell_type": "code",
      "execution_count": null,
      "metadata": {},
      "outputs": [],
      "source": []
    },
    {
      "cell_type": "code",
      "execution_count": 27,
      "metadata": {},
      "outputs": [],
      "source": [
        "# Function to make a loan prediction\n",
        "def predict_loan_approval():\n",
        "    # Get input values from the entry widgets\n",
        "    applicant_income = float(applicant_income_entry.get())\n",
        "    coapplicant_income = float(coapplicant_income_entry.get())\n",
        "    loan_amount = float(loan_amount_entry.get())\n",
        "    loan_term = float(loan_term_entry.get())\n",
        "    credit_history = float(credit_history_entry.get())\n",
        "\n",
        "    # Encode categorical variables\n",
        "    loan_data = [applicant_income, coapplicant_income, loan_amount, loan_term, credit_history]\n",
        "    loan_data_encoded = label_encoder.transform(loan_data)\n",
        "\n",
        "    # Reshape the input data to match the format used during training\n",
        "    loan_data_reshaped = np.array(loan_data_encoded).reshape(1, -1)\n",
        "\n",
        "    # Use the trained Random Forest model for prediction\n",
        "    prediction = rfc.predict(loan_data_reshaped)\n",
        "\n",
        "    # Display the prediction result\n",
        "    result_text.set(f\"Loan Approval Prediction: {'Approved' if prediction[0] == 1 else 'Not Approved'}\")"
      ]
    },
    {
      "cell_type": "code",
      "execution_count": 29,
      "metadata": {},
      "outputs": [],
      "source": [
        "import tkinter as tk\n",
        "from tkinter import messagebox\n",
        "import numpy as np"
      ]
    },
    {
      "cell_type": "code",
      "execution_count": 30,
      "metadata": {},
      "outputs": [],
      "source": [
        "\n",
        "\n",
        "# # Assume label_encoder and rfc are already defined based on your previous code\n",
        "\n",
        "# # Function to make a loan prediction\n",
        "# def predict_loan_approval():\n",
        "#     # Get input values from the entry widgets\n",
        "#     applicant_income = float(applicant_income_entry.get())\n",
        "#     coapplicant_income = float(coapplicant_income_entry.get())\n",
        "#     loan_amount = float(loan_amount_entry.get())\n",
        "#     loan_term = float(loan_term_entry.get())\n",
        "#     credit_history = float(credit_history_entry.get())\n",
        "\n",
        "#     # Encode categorical variables\n",
        "#     loan_data = [applicant_income, coapplicant_income, loan_amount, loan_term, credit_history]\n",
        "#     loan_data_encoded = label_encoder.transform(loan_data)\n",
        "\n",
        "#     # Reshape the input data to match the format used during training\n",
        "#     loan_data_reshaped = np.array(loan_data_encoded).reshape(1, -1)\n",
        "\n",
        "#     # Use the trained Random Forest model for prediction\n",
        "#     prediction = rfc.predict(loan_data_reshaped)\n",
        "\n",
        "#     # Display the prediction result\n",
        "#     result_text.set(f\"Loan Approval Prediction: {'Approved' if prediction[0] == 1 else 'Not Approved'}\")\n",
        "\n",
        "# Create the main window\n",
        "root = tk.Tk()\n",
        "root.title(\"Loan Approval Predictor\")\n",
        "\n",
        "# Create input labels and entry widgets\n",
        "tk.Label(root, text=\"Applicant Income:\").grid(row=0, column=0, padx=10, pady=5)\n",
        "applicant_income_entry = tk.Entry(root)\n",
        "applicant_income_entry.grid(row=0, column=1)\n",
        "\n",
        "tk.Label(root, text=\"Coapplicant Income:\").grid(row=1, column=0, padx=10, pady=5)\n",
        "coapplicant_income_entry = tk.Entry(root)\n",
        "coapplicant_income_entry.grid(row=1, column=1)\n",
        "\n",
        "tk.Label(root, text=\"Loan Amount:\").grid(row=2, column=0, padx=10, pady=5)\n",
        "loan_amount_entry = tk.Entry(root)\n",
        "loan_amount_entry.grid(row=2, column=1)\n",
        "\n",
        "tk.Label(root, text=\"Loan Term:\").grid(row=3, column=0, padx=10, pady=5)\n",
        "loan_term_entry = tk.Entry(root)\n",
        "loan_term_entry.grid(row=3, column=1)\n",
        "\n",
        "tk.Label(root, text=\"Credit History:\").grid(row=4, column=0, padx=10, pady=5)\n",
        "credit_history_entry = tk.Entry(root)\n",
        "credit_history_entry.grid(row=4, column=1)\n",
        "\n",
        "# Create a button to trigger the loan prediction\n",
        "predict_button = tk.Button(root, text=\"Predict Loan Approval\", command=predict_loan_approval)\n",
        "predict_button.grid(row=5, column=0, columnspan=2, pady=10)\n",
        "\n",
        "# Display the prediction result\n",
        "result_text = tk.StringVar()\n",
        "result_label = tk.Label(root, textvariable=result_text)\n",
        "result_label.grid(row=6, column=0, columnspan=2)\n",
        "\n",
        "# Start the main event loop\n",
        "root.mainloop()\n"
      ]
    },
    {
      "cell_type": "code",
      "execution_count": null,
      "metadata": {},
      "outputs": [],
      "source": []
    }
  ],
  "metadata": {
    "colab": {
      "provenance": []
    },
    "kernelspec": {
      "display_name": "Python 3",
      "name": "python3"
    },
    "language_info": {
      "codemirror_mode": {
        "name": "ipython",
        "version": 3
      },
      "file_extension": ".py",
      "mimetype": "text/x-python",
      "name": "python",
      "nbconvert_exporter": "python",
      "pygments_lexer": "ipython3",
      "version": "3.11.7"
    }
  },
  "nbformat": 4,
  "nbformat_minor": 0
}
